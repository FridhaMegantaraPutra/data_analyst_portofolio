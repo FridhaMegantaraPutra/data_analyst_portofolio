{
 "cells": [
  {
   "cell_type": "markdown",
   "metadata": {},
   "source": [
    "# Credit Card Approval Prediction"
   ]
  },
  {
   "cell_type": "markdown",
   "metadata": {},
   "source": [
    "## by FRIDHA MEGANTARA PUTRA"
   ]
  },
  {
   "cell_type": "code",
   "execution_count": 1,
   "metadata": {
    "execution": {
     "iopub.execute_input": "2024-06-08T11:10:48.018049Z",
     "iopub.status.busy": "2024-06-08T11:10:48.017115Z",
     "iopub.status.idle": "2024-06-08T11:10:48.422638Z",
     "shell.execute_reply": "2024-06-08T11:10:48.421735Z",
     "shell.execute_reply.started": "2024-06-08T11:10:48.018014Z"
    }
   },
   "outputs": [],
   "source": [
    "import pandas as pd\n",
    "import matplotlib.pyplot as plt\n",
    "import pandas as pd\n",
    "from datetime import datetime, timedelta\n"
   ]
  },
  {
   "cell_type": "markdown",
   "metadata": {},
   "source": [
    "## penejelasan dataset"
   ]
  },
  {
   "cell_type": "markdown",
   "metadata": {},
   "source": [
    "Kartu skor kredit adalah metode pengendalian risiko yang umum digunakan dalam industri keuangan. Metode ini menggunakan informasi pribadi dan data yang diajukan oleh pemohon kartu kredit untuk memprediksi kemungkinan gagal bayar di masa depan dan pinjaman kartu kredit. Bank dapat memutuskan apakah akan menerbitkan kartu kredit kepada pemohon. Skor kredit dapat mengkuantifikasi besarnya risiko secara objektif."
   ]
  },
  {
   "cell_type": "markdown",
   "metadata": {},
   "source": [
    "| Feature name       | Explanation                                            | Remarks                                                                                           |\n",
    "|--------------------|--------------------------------------------------------|---------------------------------------------------------------------------------------------------|\n",
    "| ID                 | Client number                                          |                                                                                                   |\n",
    "| CODE_GENDER        | Gender                                                 |                                                                                                   |\n",
    "| FLAG_OWN_CAR       | Is there a car                                         |                                                                                                   |\n",
    "| FLAG_OWN_REALTY    | Is there a property                                    |                                                                                                   |\n",
    "| CNT_CHILDREN       | Number of children                                     |                                                                                                   |\n",
    "| AMT_INCOME_TOTAL   | Annual income                                          |                                                                                                   |\n",
    "| NAME_INCOME_TYPE   | Income category                                        |                                                                                                   |\n",
    "| NAME_EDUCATION_TYPE| Education level                                        |                                                                                                   |\n",
    "| NAME_FAMILY_STATUS | Marital status                                         |                                                                                                   |\n",
    "| NAME_HOUSING_TYPE  | Way of living                                          |                                                                                                   |\n",
    "| DAYS_BIRTH         | Birthday                                               | Count backwards from current day (0), -1 means yesterday                                          |\n",
    "| DAYS_EMPLOYED      | Start date of employment                               | Count backwards from current day (0). If positive, it means the person is currently unemployed.   |\n",
    "| FLAG_MOBIL         | Is there a mobile phone                                |                                                                                                   |\n",
    "| FLAG_WORK_PHONE    | Is there a work phone                                  |                                                                                                   |\n",
    "| FLAG_PHONE         | Is there a phone                                       |                                                                                                   |\n",
    "| FLAG_EMAIL         | Is there an email                                      |                                                                                                   |\n",
    "| OCCUPATION_TYPE    | Occupation                                             |                                                                                                   |\n",
    "| CNT_FAM_MEMBERS    | Family size                                            |                                                                                                   |\n"
   ]
  },
  {
   "cell_type": "markdown",
   "metadata": {},
   "source": [
    "| Feature name   | Explanation                                                | Remarks                                                                                                                                             |\n",
    "|----------------|------------------------------------------------------------|-----------------------------------------------------------------------------------------------------------------------------------------------------|\n",
    "| ID             | Client number                                              |                                                                                                                                                     |\n",
    "| MONTHS_BALANCE | Record month                                               | The month of the extracted data is the starting point, backwards, 0 is the current month, -1 is the previous month, and so on                        |\n",
    "| STATUS         | Status                                                     | 0: 1-29 days past due<br>1: 30-59 days past due<br>2: 60-89 days overdue<br>3: 90-119 days overdue<br>4: 120-149 days overdue<br>5: Overdue or bad debts, write-offs for more than 150 days<br>C: paid off that month<br>X: No loan for the month |\n"
   ]
  },
  {
   "cell_type": "markdown",
   "metadata": {},
   "source": [
    "## IMPORT DATASET "
   ]
  },
  {
   "cell_type": "code",
   "execution_count": 2,
   "metadata": {
    "execution": {
     "iopub.execute_input": "2024-06-08T11:10:48.424821Z",
     "iopub.status.busy": "2024-06-08T11:10:48.424403Z",
     "iopub.status.idle": "2024-06-08T11:10:50.103211Z",
     "shell.execute_reply": "2024-06-08T11:10:50.102266Z",
     "shell.execute_reply.started": "2024-06-08T11:10:48.424788Z"
    }
   },
   "outputs": [],
   "source": [
    "# df1 = pd.read_csv('/kaggle/input/credit-card-approval-prediction/application_record.csv')\n"
   ]
  },
  {
   "cell_type": "code",
   "execution_count": 3,
   "metadata": {
    "execution": {
     "iopub.execute_input": "2024-06-08T11:10:50.104742Z",
     "iopub.status.busy": "2024-06-08T11:10:50.104447Z",
     "iopub.status.idle": "2024-06-08T11:10:50.109089Z",
     "shell.execute_reply": "2024-06-08T11:10:50.108024Z",
     "shell.execute_reply.started": "2024-06-08T11:10:50.104716Z"
    }
   },
   "outputs": [],
   "source": [
    "# print (df1['CODE_GENDER'].unique())\n",
    "# print (df1['FLAG_OWN_CAR'].unique())\n",
    "# print (df1['FLAG_OWN_REALTY'].unique())\n",
    "# print (df1['CNT_CHILDREN'].unique())\n",
    "# print (df1['NAME_INCOME_TYPE'].unique())\n",
    "# print (df1['NAME_EDUCATION_TYPE'].unique())\n",
    "# print (df1['NAME_FAMILY_STATUS'].unique())\n",
    "# print (df1['NAME_HOUSING_TYPE'].unique())\n",
    "# print (df1['OCCUPATION_TYPE'].unique())\n",
    "# print (df['CNT_FAM_MEMBERS'].unique())\n"
   ]
  },
  {
   "cell_type": "code",
   "execution_count": 4,
   "metadata": {
    "execution": {
     "iopub.execute_input": "2024-06-08T11:10:50.111508Z",
     "iopub.status.busy": "2024-06-08T11:10:50.111188Z",
     "iopub.status.idle": "2024-06-08T11:10:50.134275Z",
     "shell.execute_reply": "2024-06-08T11:10:50.132942Z",
     "shell.execute_reply.started": "2024-06-08T11:10:50.111475Z"
    }
   },
   "outputs": [
    {
     "ename": "NameError",
     "evalue": "name 'df1' is not defined",
     "output_type": "error",
     "traceback": [
      "\u001b[1;31m---------------------------------------------------------------------------\u001b[0m",
      "\u001b[1;31mNameError\u001b[0m                                 Traceback (most recent call last)",
      "Cell \u001b[1;32mIn[4], line 1\u001b[0m\n\u001b[1;32m----> 1\u001b[0m \u001b[43mdf1\u001b[49m\u001b[38;5;241m.\u001b[39mdtypes\n",
      "\u001b[1;31mNameError\u001b[0m: name 'df1' is not defined"
     ]
    }
   ],
   "source": [
    "df1.dtypes"
   ]
  },
  {
   "cell_type": "code",
   "execution_count": 5,
   "metadata": {
    "execution": {
     "iopub.execute_input": "2024-06-08T11:10:50.135865Z",
     "iopub.status.busy": "2024-06-08T11:10:50.135525Z",
     "iopub.status.idle": "2024-06-08T11:10:50.170646Z",
     "shell.execute_reply": "2024-06-08T11:10:50.169772Z",
     "shell.execute_reply.started": "2024-06-08T11:10:50.135841Z"
    }
   },
   "outputs": [
    {
     "data": {
      "text/html": [
       "<div>\n",
       "<style scoped>\n",
       "    .dataframe tbody tr th:only-of-type {\n",
       "        vertical-align: middle;\n",
       "    }\n",
       "\n",
       "    .dataframe tbody tr th {\n",
       "        vertical-align: top;\n",
       "    }\n",
       "\n",
       "    .dataframe thead th {\n",
       "        text-align: right;\n",
       "    }\n",
       "</style>\n",
       "<table border=\"1\" class=\"dataframe\">\n",
       "  <thead>\n",
       "    <tr style=\"text-align: right;\">\n",
       "      <th></th>\n",
       "      <th>ID</th>\n",
       "      <th>CODE_GENDER</th>\n",
       "      <th>FLAG_OWN_CAR</th>\n",
       "      <th>FLAG_OWN_REALTY</th>\n",
       "      <th>CNT_CHILDREN</th>\n",
       "      <th>AMT_INCOME_TOTAL</th>\n",
       "      <th>NAME_INCOME_TYPE</th>\n",
       "      <th>NAME_EDUCATION_TYPE</th>\n",
       "      <th>NAME_FAMILY_STATUS</th>\n",
       "      <th>NAME_HOUSING_TYPE</th>\n",
       "      <th>DAYS_BIRTH</th>\n",
       "      <th>DAYS_EMPLOYED</th>\n",
       "      <th>FLAG_MOBIL</th>\n",
       "      <th>FLAG_WORK_PHONE</th>\n",
       "      <th>FLAG_PHONE</th>\n",
       "      <th>FLAG_EMAIL</th>\n",
       "      <th>OCCUPATION_TYPE</th>\n",
       "      <th>CNT_FAM_MEMBERS</th>\n",
       "    </tr>\n",
       "  </thead>\n",
       "  <tbody>\n",
       "    <tr>\n",
       "      <th>0</th>\n",
       "      <td>5008804</td>\n",
       "      <td>M</td>\n",
       "      <td>Y</td>\n",
       "      <td>Y</td>\n",
       "      <td>0</td>\n",
       "      <td>427500.0</td>\n",
       "      <td>Working</td>\n",
       "      <td>Higher education</td>\n",
       "      <td>Civil marriage</td>\n",
       "      <td>Rented apartment</td>\n",
       "      <td>-12005</td>\n",
       "      <td>-4542</td>\n",
       "      <td>1</td>\n",
       "      <td>1</td>\n",
       "      <td>0</td>\n",
       "      <td>0</td>\n",
       "      <td>NaN</td>\n",
       "      <td>2.0</td>\n",
       "    </tr>\n",
       "    <tr>\n",
       "      <th>1</th>\n",
       "      <td>5008805</td>\n",
       "      <td>M</td>\n",
       "      <td>Y</td>\n",
       "      <td>Y</td>\n",
       "      <td>0</td>\n",
       "      <td>427500.0</td>\n",
       "      <td>Working</td>\n",
       "      <td>Higher education</td>\n",
       "      <td>Civil marriage</td>\n",
       "      <td>Rented apartment</td>\n",
       "      <td>-12005</td>\n",
       "      <td>-4542</td>\n",
       "      <td>1</td>\n",
       "      <td>1</td>\n",
       "      <td>0</td>\n",
       "      <td>0</td>\n",
       "      <td>NaN</td>\n",
       "      <td>2.0</td>\n",
       "    </tr>\n",
       "    <tr>\n",
       "      <th>2</th>\n",
       "      <td>5008806</td>\n",
       "      <td>M</td>\n",
       "      <td>Y</td>\n",
       "      <td>Y</td>\n",
       "      <td>0</td>\n",
       "      <td>112500.0</td>\n",
       "      <td>Working</td>\n",
       "      <td>Secondary / secondary special</td>\n",
       "      <td>Married</td>\n",
       "      <td>House / apartment</td>\n",
       "      <td>-21474</td>\n",
       "      <td>-1134</td>\n",
       "      <td>1</td>\n",
       "      <td>0</td>\n",
       "      <td>0</td>\n",
       "      <td>0</td>\n",
       "      <td>Security staff</td>\n",
       "      <td>2.0</td>\n",
       "    </tr>\n",
       "    <tr>\n",
       "      <th>3</th>\n",
       "      <td>5008808</td>\n",
       "      <td>F</td>\n",
       "      <td>N</td>\n",
       "      <td>Y</td>\n",
       "      <td>0</td>\n",
       "      <td>270000.0</td>\n",
       "      <td>Commercial associate</td>\n",
       "      <td>Secondary / secondary special</td>\n",
       "      <td>Single / not married</td>\n",
       "      <td>House / apartment</td>\n",
       "      <td>-19110</td>\n",
       "      <td>-3051</td>\n",
       "      <td>1</td>\n",
       "      <td>0</td>\n",
       "      <td>1</td>\n",
       "      <td>1</td>\n",
       "      <td>Sales staff</td>\n",
       "      <td>1.0</td>\n",
       "    </tr>\n",
       "    <tr>\n",
       "      <th>4</th>\n",
       "      <td>5008809</td>\n",
       "      <td>F</td>\n",
       "      <td>N</td>\n",
       "      <td>Y</td>\n",
       "      <td>0</td>\n",
       "      <td>270000.0</td>\n",
       "      <td>Commercial associate</td>\n",
       "      <td>Secondary / secondary special</td>\n",
       "      <td>Single / not married</td>\n",
       "      <td>House / apartment</td>\n",
       "      <td>-19110</td>\n",
       "      <td>-3051</td>\n",
       "      <td>1</td>\n",
       "      <td>0</td>\n",
       "      <td>1</td>\n",
       "      <td>1</td>\n",
       "      <td>Sales staff</td>\n",
       "      <td>1.0</td>\n",
       "    </tr>\n",
       "  </tbody>\n",
       "</table>\n",
       "</div>"
      ],
      "text/plain": [
       "        ID CODE_GENDER FLAG_OWN_CAR FLAG_OWN_REALTY  CNT_CHILDREN  \\\n",
       "0  5008804           M            Y               Y             0   \n",
       "1  5008805           M            Y               Y             0   \n",
       "2  5008806           M            Y               Y             0   \n",
       "3  5008808           F            N               Y             0   \n",
       "4  5008809           F            N               Y             0   \n",
       "\n",
       "   AMT_INCOME_TOTAL      NAME_INCOME_TYPE            NAME_EDUCATION_TYPE  \\\n",
       "0          427500.0               Working               Higher education   \n",
       "1          427500.0               Working               Higher education   \n",
       "2          112500.0               Working  Secondary / secondary special   \n",
       "3          270000.0  Commercial associate  Secondary / secondary special   \n",
       "4          270000.0  Commercial associate  Secondary / secondary special   \n",
       "\n",
       "     NAME_FAMILY_STATUS  NAME_HOUSING_TYPE  DAYS_BIRTH  DAYS_EMPLOYED  \\\n",
       "0        Civil marriage   Rented apartment      -12005          -4542   \n",
       "1        Civil marriage   Rented apartment      -12005          -4542   \n",
       "2               Married  House / apartment      -21474          -1134   \n",
       "3  Single / not married  House / apartment      -19110          -3051   \n",
       "4  Single / not married  House / apartment      -19110          -3051   \n",
       "\n",
       "   FLAG_MOBIL  FLAG_WORK_PHONE  FLAG_PHONE  FLAG_EMAIL OCCUPATION_TYPE  \\\n",
       "0           1                1           0           0             NaN   \n",
       "1           1                1           0           0             NaN   \n",
       "2           1                0           0           0  Security staff   \n",
       "3           1                0           1           1     Sales staff   \n",
       "4           1                0           1           1     Sales staff   \n",
       "\n",
       "   CNT_FAM_MEMBERS  \n",
       "0              2.0  \n",
       "1              2.0  \n",
       "2              2.0  \n",
       "3              1.0  \n",
       "4              1.0  "
      ]
     },
     "execution_count": 5,
     "metadata": {},
     "output_type": "execute_result"
    }
   ],
   "source": [
    "df1.head()"
   ]
  },
  {
   "cell_type": "markdown",
   "metadata": {},
   "source": [
    "## Pra Pemrosesan"
   ]
  },
  {
   "cell_type": "markdown",
   "metadata": {},
   "source": [
    "### encode data kategorikal menjadi binary dan ubah tanggal menjadi tanggal asli dari sekarag"
   ]
  },
  {
   "cell_type": "markdown",
   "metadata": {},
   "source": [
    "kolom yang memiliki nilai kategorikal akan di encode menjadi binary dan mengubah tanggal menjadi tanggal asli"
   ]
  },
  {
   "cell_type": "code",
   "execution_count": 6,
   "metadata": {
    "execution": {
     "iopub.execute_input": "2024-06-08T11:10:50.172930Z",
     "iopub.status.busy": "2024-06-08T11:10:50.171800Z",
     "iopub.status.idle": "2024-06-08T11:10:51.162454Z",
     "shell.execute_reply": "2024-06-08T11:10:51.161659Z",
     "shell.execute_reply.started": "2024-06-08T11:10:50.172871Z"
    }
   },
   "outputs": [],
   "source": [
    "import pandas as pd\n",
    "\n",
    "# Definisikan kolom-kolom yang perlu diubah\n",
    "columns_to_encode = [\n",
    "    'CODE_GENDER',\n",
    "    'FLAG_OWN_CAR',\n",
    "    'FLAG_OWN_REALTY',\n",
    "    'NAME_INCOME_TYPE',\n",
    "    'NAME_EDUCATION_TYPE',\n",
    "    'NAME_FAMILY_STATUS',\n",
    "    'NAME_HOUSING_TYPE',\n",
    "    'OCCUPATION_TYPE'\n",
    "]\n",
    "\n",
    "# Lakukan one-hot encoding untuk setiap kolom\n",
    "for column in columns_to_encode:\n",
    "    df1 = pd.get_dummies(df1, columns=[column], prefix=column.replace('_', ' '))\n",
    "\n",
    "# Ubah nilai False menjadi 0 dan True menjadi 1\n",
    "for column in df1.columns:\n",
    "    if df1[column].dtype == bool:\n",
    "        df1[column] = df1[column].astype(int)\n",
    "\n",
    "# columns_to_encode = [\n",
    "#     'CODE_GENDER',\n",
    "#     'FLAG_OWN_CAR',\n",
    "#     'FLAG_OWN_REALTY',\n",
    "#     'NAME_INCOME_TYPE',\n",
    "#     'NAME_EDUCATION_TYPE',\n",
    "#     'NAME_FAMILY_STATUS',\n",
    "#     'NAME_HOUSING_TYPE',\n",
    "#     'OCCUPATION_TYPE'\n",
    "# ]\n",
    "\n",
    "# for column in columns_to_encode:\n",
    "#     df1 = pd.get_dummies(df1, columns=[column], prefix=column.replace('_', ' '))\n",
    "# ------------------------------------------------------------------------------------------------\n",
    "\n",
    "# Tanggal hari ini\n",
    "today = datetime.today()\n",
    "\n",
    "def days_birth_to_date(days_birth):\n",
    "    birth_date = datetime.today() + timedelta(days=days_birth)\n",
    "    return birth_date.strftime('%d-%m-%Y')\n",
    "\n",
    "# Ubah DAYS_BIRTH menjadi usia dalam tahun\n",
    "df1['AGE'] = abs(df1['DAYS_BIRTH']) / 365\n",
    "# Bulatkan usia ke bilangan bulat terdekat\n",
    "df1['AGE'] = round(df1['AGE'])\n",
    "\n",
    "# Ubah DAYS_BIRTH menjadi usia dalam tahun\n",
    "df1['EMPLOYED'] = abs(df1['DAYS_EMPLOYED']) / 365\n",
    "# Bulatkan usia ke bilangan bulat terdekat\n",
    "df1['DAYS_EMPLOYED'] = round(df1['DAYS_EMPLOYED'])"
   ]
  },
  {
   "cell_type": "code",
   "execution_count": 7,
   "metadata": {
    "execution": {
     "iopub.execute_input": "2024-06-08T11:10:51.164469Z",
     "iopub.status.busy": "2024-06-08T11:10:51.164129Z",
     "iopub.status.idle": "2024-06-08T11:10:51.189779Z",
     "shell.execute_reply": "2024-06-08T11:10:51.188829Z",
     "shell.execute_reply.started": "2024-06-08T11:10:51.164438Z"
    }
   },
   "outputs": [
    {
     "data": {
      "text/html": [
       "<div>\n",
       "<style scoped>\n",
       "    .dataframe tbody tr th:only-of-type {\n",
       "        vertical-align: middle;\n",
       "    }\n",
       "\n",
       "    .dataframe tbody tr th {\n",
       "        vertical-align: top;\n",
       "    }\n",
       "\n",
       "    .dataframe thead th {\n",
       "        text-align: right;\n",
       "    }\n",
       "</style>\n",
       "<table border=\"1\" class=\"dataframe\">\n",
       "  <thead>\n",
       "    <tr style=\"text-align: right;\">\n",
       "      <th></th>\n",
       "      <th>ID</th>\n",
       "      <th>CNT_CHILDREN</th>\n",
       "      <th>AMT_INCOME_TOTAL</th>\n",
       "      <th>DAYS_BIRTH</th>\n",
       "      <th>DAYS_EMPLOYED</th>\n",
       "      <th>FLAG_MOBIL</th>\n",
       "      <th>FLAG_WORK_PHONE</th>\n",
       "      <th>FLAG_PHONE</th>\n",
       "      <th>FLAG_EMAIL</th>\n",
       "      <th>CNT_FAM_MEMBERS</th>\n",
       "      <th>...</th>\n",
       "      <th>OCCUPATION TYPE_Managers</th>\n",
       "      <th>OCCUPATION TYPE_Medicine staff</th>\n",
       "      <th>OCCUPATION TYPE_Private service staff</th>\n",
       "      <th>OCCUPATION TYPE_Realty agents</th>\n",
       "      <th>OCCUPATION TYPE_Sales staff</th>\n",
       "      <th>OCCUPATION TYPE_Secretaries</th>\n",
       "      <th>OCCUPATION TYPE_Security staff</th>\n",
       "      <th>OCCUPATION TYPE_Waiters/barmen staff</th>\n",
       "      <th>AGE</th>\n",
       "      <th>EMPLOYED</th>\n",
       "    </tr>\n",
       "  </thead>\n",
       "  <tbody>\n",
       "    <tr>\n",
       "      <th>0</th>\n",
       "      <td>5008804</td>\n",
       "      <td>0</td>\n",
       "      <td>427500.0</td>\n",
       "      <td>-12005</td>\n",
       "      <td>-4542</td>\n",
       "      <td>1</td>\n",
       "      <td>1</td>\n",
       "      <td>0</td>\n",
       "      <td>0</td>\n",
       "      <td>2.0</td>\n",
       "      <td>...</td>\n",
       "      <td>0</td>\n",
       "      <td>0</td>\n",
       "      <td>0</td>\n",
       "      <td>0</td>\n",
       "      <td>0</td>\n",
       "      <td>0</td>\n",
       "      <td>0</td>\n",
       "      <td>0</td>\n",
       "      <td>33.0</td>\n",
       "      <td>12.443836</td>\n",
       "    </tr>\n",
       "    <tr>\n",
       "      <th>1</th>\n",
       "      <td>5008805</td>\n",
       "      <td>0</td>\n",
       "      <td>427500.0</td>\n",
       "      <td>-12005</td>\n",
       "      <td>-4542</td>\n",
       "      <td>1</td>\n",
       "      <td>1</td>\n",
       "      <td>0</td>\n",
       "      <td>0</td>\n",
       "      <td>2.0</td>\n",
       "      <td>...</td>\n",
       "      <td>0</td>\n",
       "      <td>0</td>\n",
       "      <td>0</td>\n",
       "      <td>0</td>\n",
       "      <td>0</td>\n",
       "      <td>0</td>\n",
       "      <td>0</td>\n",
       "      <td>0</td>\n",
       "      <td>33.0</td>\n",
       "      <td>12.443836</td>\n",
       "    </tr>\n",
       "    <tr>\n",
       "      <th>2</th>\n",
       "      <td>5008806</td>\n",
       "      <td>0</td>\n",
       "      <td>112500.0</td>\n",
       "      <td>-21474</td>\n",
       "      <td>-1134</td>\n",
       "      <td>1</td>\n",
       "      <td>0</td>\n",
       "      <td>0</td>\n",
       "      <td>0</td>\n",
       "      <td>2.0</td>\n",
       "      <td>...</td>\n",
       "      <td>0</td>\n",
       "      <td>0</td>\n",
       "      <td>0</td>\n",
       "      <td>0</td>\n",
       "      <td>0</td>\n",
       "      <td>0</td>\n",
       "      <td>1</td>\n",
       "      <td>0</td>\n",
       "      <td>59.0</td>\n",
       "      <td>3.106849</td>\n",
       "    </tr>\n",
       "    <tr>\n",
       "      <th>3</th>\n",
       "      <td>5008808</td>\n",
       "      <td>0</td>\n",
       "      <td>270000.0</td>\n",
       "      <td>-19110</td>\n",
       "      <td>-3051</td>\n",
       "      <td>1</td>\n",
       "      <td>0</td>\n",
       "      <td>1</td>\n",
       "      <td>1</td>\n",
       "      <td>1.0</td>\n",
       "      <td>...</td>\n",
       "      <td>0</td>\n",
       "      <td>0</td>\n",
       "      <td>0</td>\n",
       "      <td>0</td>\n",
       "      <td>1</td>\n",
       "      <td>0</td>\n",
       "      <td>0</td>\n",
       "      <td>0</td>\n",
       "      <td>52.0</td>\n",
       "      <td>8.358904</td>\n",
       "    </tr>\n",
       "    <tr>\n",
       "      <th>4</th>\n",
       "      <td>5008809</td>\n",
       "      <td>0</td>\n",
       "      <td>270000.0</td>\n",
       "      <td>-19110</td>\n",
       "      <td>-3051</td>\n",
       "      <td>1</td>\n",
       "      <td>0</td>\n",
       "      <td>1</td>\n",
       "      <td>1</td>\n",
       "      <td>1.0</td>\n",
       "      <td>...</td>\n",
       "      <td>0</td>\n",
       "      <td>0</td>\n",
       "      <td>0</td>\n",
       "      <td>0</td>\n",
       "      <td>1</td>\n",
       "      <td>0</td>\n",
       "      <td>0</td>\n",
       "      <td>0</td>\n",
       "      <td>52.0</td>\n",
       "      <td>8.358904</td>\n",
       "    </tr>\n",
       "  </tbody>\n",
       "</table>\n",
       "<p>5 rows × 57 columns</p>\n",
       "</div>"
      ],
      "text/plain": [
       "        ID  CNT_CHILDREN  AMT_INCOME_TOTAL  DAYS_BIRTH  DAYS_EMPLOYED  \\\n",
       "0  5008804             0          427500.0      -12005          -4542   \n",
       "1  5008805             0          427500.0      -12005          -4542   \n",
       "2  5008806             0          112500.0      -21474          -1134   \n",
       "3  5008808             0          270000.0      -19110          -3051   \n",
       "4  5008809             0          270000.0      -19110          -3051   \n",
       "\n",
       "   FLAG_MOBIL  FLAG_WORK_PHONE  FLAG_PHONE  FLAG_EMAIL  CNT_FAM_MEMBERS  ...  \\\n",
       "0           1                1           0           0              2.0  ...   \n",
       "1           1                1           0           0              2.0  ...   \n",
       "2           1                0           0           0              2.0  ...   \n",
       "3           1                0           1           1              1.0  ...   \n",
       "4           1                0           1           1              1.0  ...   \n",
       "\n",
       "   OCCUPATION TYPE_Managers  OCCUPATION TYPE_Medicine staff  \\\n",
       "0                         0                               0   \n",
       "1                         0                               0   \n",
       "2                         0                               0   \n",
       "3                         0                               0   \n",
       "4                         0                               0   \n",
       "\n",
       "   OCCUPATION TYPE_Private service staff  OCCUPATION TYPE_Realty agents  \\\n",
       "0                                      0                              0   \n",
       "1                                      0                              0   \n",
       "2                                      0                              0   \n",
       "3                                      0                              0   \n",
       "4                                      0                              0   \n",
       "\n",
       "   OCCUPATION TYPE_Sales staff  OCCUPATION TYPE_Secretaries  \\\n",
       "0                            0                            0   \n",
       "1                            0                            0   \n",
       "2                            0                            0   \n",
       "3                            1                            0   \n",
       "4                            1                            0   \n",
       "\n",
       "   OCCUPATION TYPE_Security staff  OCCUPATION TYPE_Waiters/barmen staff   AGE  \\\n",
       "0                               0                                     0  33.0   \n",
       "1                               0                                     0  33.0   \n",
       "2                               1                                     0  59.0   \n",
       "3                               0                                     0  52.0   \n",
       "4                               0                                     0  52.0   \n",
       "\n",
       "    EMPLOYED  \n",
       "0  12.443836  \n",
       "1  12.443836  \n",
       "2   3.106849  \n",
       "3   8.358904  \n",
       "4   8.358904  \n",
       "\n",
       "[5 rows x 57 columns]"
      ]
     },
     "execution_count": 7,
     "metadata": {},
     "output_type": "execute_result"
    }
   ],
   "source": [
    "df1.head()"
   ]
  },
  {
   "cell_type": "code",
   "execution_count": 8,
   "metadata": {
    "execution": {
     "iopub.execute_input": "2024-06-08T11:10:51.191783Z",
     "iopub.status.busy": "2024-06-08T11:10:51.191135Z",
     "iopub.status.idle": "2024-06-08T11:10:51.670702Z",
     "shell.execute_reply": "2024-06-08T11:10:51.669806Z",
     "shell.execute_reply.started": "2024-06-08T11:10:51.191731Z"
    }
   },
   "outputs": [],
   "source": [
    "# df2= pd.read_csv('/kaggle/input/credit-card-approval-prediction/credit_record.csv')"
   ]
  },
  {
   "cell_type": "code",
   "execution_count": 9,
   "metadata": {
    "execution": {
     "iopub.execute_input": "2024-06-08T11:10:51.672297Z",
     "iopub.status.busy": "2024-06-08T11:10:51.671985Z",
     "iopub.status.idle": "2024-06-08T11:10:51.682858Z",
     "shell.execute_reply": "2024-06-08T11:10:51.681834Z",
     "shell.execute_reply.started": "2024-06-08T11:10:51.672270Z"
    }
   },
   "outputs": [
    {
     "data": {
      "text/html": [
       "<div>\n",
       "<style scoped>\n",
       "    .dataframe tbody tr th:only-of-type {\n",
       "        vertical-align: middle;\n",
       "    }\n",
       "\n",
       "    .dataframe tbody tr th {\n",
       "        vertical-align: top;\n",
       "    }\n",
       "\n",
       "    .dataframe thead th {\n",
       "        text-align: right;\n",
       "    }\n",
       "</style>\n",
       "<table border=\"1\" class=\"dataframe\">\n",
       "  <thead>\n",
       "    <tr style=\"text-align: right;\">\n",
       "      <th></th>\n",
       "      <th>ID</th>\n",
       "      <th>MONTHS_BALANCE</th>\n",
       "      <th>STATUS</th>\n",
       "    </tr>\n",
       "  </thead>\n",
       "  <tbody>\n",
       "    <tr>\n",
       "      <th>0</th>\n",
       "      <td>5001711</td>\n",
       "      <td>0</td>\n",
       "      <td>X</td>\n",
       "    </tr>\n",
       "    <tr>\n",
       "      <th>1</th>\n",
       "      <td>5001711</td>\n",
       "      <td>-1</td>\n",
       "      <td>0</td>\n",
       "    </tr>\n",
       "    <tr>\n",
       "      <th>2</th>\n",
       "      <td>5001711</td>\n",
       "      <td>-2</td>\n",
       "      <td>0</td>\n",
       "    </tr>\n",
       "    <tr>\n",
       "      <th>3</th>\n",
       "      <td>5001711</td>\n",
       "      <td>-3</td>\n",
       "      <td>0</td>\n",
       "    </tr>\n",
       "    <tr>\n",
       "      <th>4</th>\n",
       "      <td>5001712</td>\n",
       "      <td>0</td>\n",
       "      <td>C</td>\n",
       "    </tr>\n",
       "  </tbody>\n",
       "</table>\n",
       "</div>"
      ],
      "text/plain": [
       "        ID  MONTHS_BALANCE STATUS\n",
       "0  5001711               0      X\n",
       "1  5001711              -1      0\n",
       "2  5001711              -2      0\n",
       "3  5001711              -3      0\n",
       "4  5001712               0      C"
      ]
     },
     "execution_count": 9,
     "metadata": {},
     "output_type": "execute_result"
    }
   ],
   "source": [
    "df2.head()"
   ]
  },
  {
   "cell_type": "markdown",
   "metadata": {},
   "source": [
    "## "
   ]
  },
  {
   "cell_type": "markdown",
   "metadata": {},
   "source": [
    "## Mengubah Nilai pada data 2"
   ]
  },
  {
   "cell_type": "markdown",
   "metadata": {},
   "source": [
    "### Nilai 6 mewakili 'X' dan 7 mewakili 'C', dianggap sebagai ekstensi dari 0-5."
   ]
  },
  {
   "cell_type": "markdown",
   "metadata": {},
   "source": [
    "hal ini dilakukan agar tidak ada huruf"
   ]
  },
  {
   "cell_type": "code",
   "execution_count": 10,
   "metadata": {
    "execution": {
     "iopub.execute_input": "2024-06-08T11:10:51.688800Z",
     "iopub.status.busy": "2024-06-08T11:10:51.688369Z",
     "iopub.status.idle": "2024-06-08T11:10:52.083474Z",
     "shell.execute_reply": "2024-06-08T11:10:52.082378Z",
     "shell.execute_reply.started": "2024-06-08T11:10:51.688738Z"
    }
   },
   "outputs": [
    {
     "name": "stdout",
     "output_type": "stream",
     "text": [
      "              ID  MONTHS_BALANCE STATUS\n",
      "0        5001711               0      6\n",
      "1        5001711              -1      0\n",
      "2        5001711              -2      0\n",
      "3        5001711              -3      0\n",
      "4        5001712               0      7\n",
      "...          ...             ...    ...\n",
      "1048570  5150487             -25      7\n",
      "1048571  5150487             -26      7\n",
      "1048572  5150487             -27      7\n",
      "1048573  5150487             -28      7\n",
      "1048574  5150487             -29      7\n",
      "\n",
      "[1048575 rows x 3 columns]\n"
     ]
    }
   ],
   "source": [
    "# One-hot encoding\n",
    "df2_encoded = pd.get_dummies(df2, columns=['STATUS'], prefix='STATUS')\n",
    "\n",
    "# atau Binary encoding\n",
    "df2['STATUS'] = df2['STATUS'].replace({'X': 6, 'C': 7})\n",
    "# Nilai di atas 5 mewakili 'X' dan 'C', dianggap sebagai ekstensi dari 0-5.\n",
    "df2_encoded = df2\n",
    "\n",
    "print(df2_encoded)"
   ]
  },
  {
   "cell_type": "markdown",
   "metadata": {},
   "source": [
    "## melakukan merge"
   ]
  },
  {
   "cell_type": "markdown",
   "metadata": {},
   "source": [
    "### df1 dan df2 akan di merge"
   ]
  },
  {
   "cell_type": "markdown",
   "metadata": {},
   "source": [
    "df1 dan df2 akan di merge dengan inner berdasarkan ID"
   ]
  },
  {
   "cell_type": "code",
   "execution_count": 13,
   "metadata": {
    "execution": {
     "iopub.execute_input": "2024-06-08T11:12:01.305865Z",
     "iopub.status.busy": "2024-06-08T11:12:01.304981Z",
     "iopub.status.idle": "2024-06-08T11:12:01.905789Z",
     "shell.execute_reply": "2024-06-08T11:12:01.904808Z",
     "shell.execute_reply.started": "2024-06-08T11:12:01.305822Z"
    }
   },
   "outputs": [],
   "source": [
    "df = pd.merge(df1, df2, on='ID', how='inner')"
   ]
  },
  {
   "cell_type": "code",
   "execution_count": 14,
   "metadata": {
    "execution": {
     "iopub.execute_input": "2024-06-08T11:12:04.106173Z",
     "iopub.status.busy": "2024-06-08T11:12:04.105327Z",
     "iopub.status.idle": "2024-06-08T11:12:04.130695Z",
     "shell.execute_reply": "2024-06-08T11:12:04.129657Z",
     "shell.execute_reply.started": "2024-06-08T11:12:04.106141Z"
    }
   },
   "outputs": [
    {
     "data": {
      "text/html": [
       "<div>\n",
       "<style scoped>\n",
       "    .dataframe tbody tr th:only-of-type {\n",
       "        vertical-align: middle;\n",
       "    }\n",
       "\n",
       "    .dataframe tbody tr th {\n",
       "        vertical-align: top;\n",
       "    }\n",
       "\n",
       "    .dataframe thead th {\n",
       "        text-align: right;\n",
       "    }\n",
       "</style>\n",
       "<table border=\"1\" class=\"dataframe\">\n",
       "  <thead>\n",
       "    <tr style=\"text-align: right;\">\n",
       "      <th></th>\n",
       "      <th>ID</th>\n",
       "      <th>CNT_CHILDREN</th>\n",
       "      <th>AMT_INCOME_TOTAL</th>\n",
       "      <th>DAYS_BIRTH</th>\n",
       "      <th>DAYS_EMPLOYED</th>\n",
       "      <th>FLAG_MOBIL</th>\n",
       "      <th>FLAG_WORK_PHONE</th>\n",
       "      <th>FLAG_PHONE</th>\n",
       "      <th>FLAG_EMAIL</th>\n",
       "      <th>CNT_FAM_MEMBERS</th>\n",
       "      <th>...</th>\n",
       "      <th>OCCUPATION TYPE_Private service staff</th>\n",
       "      <th>OCCUPATION TYPE_Realty agents</th>\n",
       "      <th>OCCUPATION TYPE_Sales staff</th>\n",
       "      <th>OCCUPATION TYPE_Secretaries</th>\n",
       "      <th>OCCUPATION TYPE_Security staff</th>\n",
       "      <th>OCCUPATION TYPE_Waiters/barmen staff</th>\n",
       "      <th>AGE</th>\n",
       "      <th>EMPLOYED</th>\n",
       "      <th>MONTHS_BALANCE</th>\n",
       "      <th>STATUS</th>\n",
       "    </tr>\n",
       "  </thead>\n",
       "  <tbody>\n",
       "    <tr>\n",
       "      <th>0</th>\n",
       "      <td>5008804</td>\n",
       "      <td>0</td>\n",
       "      <td>427500.0</td>\n",
       "      <td>-12005</td>\n",
       "      <td>-4542</td>\n",
       "      <td>1</td>\n",
       "      <td>1</td>\n",
       "      <td>0</td>\n",
       "      <td>0</td>\n",
       "      <td>2.0</td>\n",
       "      <td>...</td>\n",
       "      <td>0</td>\n",
       "      <td>0</td>\n",
       "      <td>0</td>\n",
       "      <td>0</td>\n",
       "      <td>0</td>\n",
       "      <td>0</td>\n",
       "      <td>33.0</td>\n",
       "      <td>12.443836</td>\n",
       "      <td>0</td>\n",
       "      <td>7</td>\n",
       "    </tr>\n",
       "    <tr>\n",
       "      <th>1</th>\n",
       "      <td>5008804</td>\n",
       "      <td>0</td>\n",
       "      <td>427500.0</td>\n",
       "      <td>-12005</td>\n",
       "      <td>-4542</td>\n",
       "      <td>1</td>\n",
       "      <td>1</td>\n",
       "      <td>0</td>\n",
       "      <td>0</td>\n",
       "      <td>2.0</td>\n",
       "      <td>...</td>\n",
       "      <td>0</td>\n",
       "      <td>0</td>\n",
       "      <td>0</td>\n",
       "      <td>0</td>\n",
       "      <td>0</td>\n",
       "      <td>0</td>\n",
       "      <td>33.0</td>\n",
       "      <td>12.443836</td>\n",
       "      <td>-1</td>\n",
       "      <td>7</td>\n",
       "    </tr>\n",
       "    <tr>\n",
       "      <th>2</th>\n",
       "      <td>5008804</td>\n",
       "      <td>0</td>\n",
       "      <td>427500.0</td>\n",
       "      <td>-12005</td>\n",
       "      <td>-4542</td>\n",
       "      <td>1</td>\n",
       "      <td>1</td>\n",
       "      <td>0</td>\n",
       "      <td>0</td>\n",
       "      <td>2.0</td>\n",
       "      <td>...</td>\n",
       "      <td>0</td>\n",
       "      <td>0</td>\n",
       "      <td>0</td>\n",
       "      <td>0</td>\n",
       "      <td>0</td>\n",
       "      <td>0</td>\n",
       "      <td>33.0</td>\n",
       "      <td>12.443836</td>\n",
       "      <td>-2</td>\n",
       "      <td>7</td>\n",
       "    </tr>\n",
       "    <tr>\n",
       "      <th>3</th>\n",
       "      <td>5008804</td>\n",
       "      <td>0</td>\n",
       "      <td>427500.0</td>\n",
       "      <td>-12005</td>\n",
       "      <td>-4542</td>\n",
       "      <td>1</td>\n",
       "      <td>1</td>\n",
       "      <td>0</td>\n",
       "      <td>0</td>\n",
       "      <td>2.0</td>\n",
       "      <td>...</td>\n",
       "      <td>0</td>\n",
       "      <td>0</td>\n",
       "      <td>0</td>\n",
       "      <td>0</td>\n",
       "      <td>0</td>\n",
       "      <td>0</td>\n",
       "      <td>33.0</td>\n",
       "      <td>12.443836</td>\n",
       "      <td>-3</td>\n",
       "      <td>7</td>\n",
       "    </tr>\n",
       "    <tr>\n",
       "      <th>4</th>\n",
       "      <td>5008804</td>\n",
       "      <td>0</td>\n",
       "      <td>427500.0</td>\n",
       "      <td>-12005</td>\n",
       "      <td>-4542</td>\n",
       "      <td>1</td>\n",
       "      <td>1</td>\n",
       "      <td>0</td>\n",
       "      <td>0</td>\n",
       "      <td>2.0</td>\n",
       "      <td>...</td>\n",
       "      <td>0</td>\n",
       "      <td>0</td>\n",
       "      <td>0</td>\n",
       "      <td>0</td>\n",
       "      <td>0</td>\n",
       "      <td>0</td>\n",
       "      <td>33.0</td>\n",
       "      <td>12.443836</td>\n",
       "      <td>-4</td>\n",
       "      <td>7</td>\n",
       "    </tr>\n",
       "  </tbody>\n",
       "</table>\n",
       "<p>5 rows × 59 columns</p>\n",
       "</div>"
      ],
      "text/plain": [
       "        ID  CNT_CHILDREN  AMT_INCOME_TOTAL  DAYS_BIRTH  DAYS_EMPLOYED  \\\n",
       "0  5008804             0          427500.0      -12005          -4542   \n",
       "1  5008804             0          427500.0      -12005          -4542   \n",
       "2  5008804             0          427500.0      -12005          -4542   \n",
       "3  5008804             0          427500.0      -12005          -4542   \n",
       "4  5008804             0          427500.0      -12005          -4542   \n",
       "\n",
       "   FLAG_MOBIL  FLAG_WORK_PHONE  FLAG_PHONE  FLAG_EMAIL  CNT_FAM_MEMBERS  ...  \\\n",
       "0           1                1           0           0              2.0  ...   \n",
       "1           1                1           0           0              2.0  ...   \n",
       "2           1                1           0           0              2.0  ...   \n",
       "3           1                1           0           0              2.0  ...   \n",
       "4           1                1           0           0              2.0  ...   \n",
       "\n",
       "   OCCUPATION TYPE_Private service staff  OCCUPATION TYPE_Realty agents  \\\n",
       "0                                      0                              0   \n",
       "1                                      0                              0   \n",
       "2                                      0                              0   \n",
       "3                                      0                              0   \n",
       "4                                      0                              0   \n",
       "\n",
       "   OCCUPATION TYPE_Sales staff  OCCUPATION TYPE_Secretaries  \\\n",
       "0                            0                            0   \n",
       "1                            0                            0   \n",
       "2                            0                            0   \n",
       "3                            0                            0   \n",
       "4                            0                            0   \n",
       "\n",
       "   OCCUPATION TYPE_Security staff  OCCUPATION TYPE_Waiters/barmen staff   AGE  \\\n",
       "0                               0                                     0  33.0   \n",
       "1                               0                                     0  33.0   \n",
       "2                               0                                     0  33.0   \n",
       "3                               0                                     0  33.0   \n",
       "4                               0                                     0  33.0   \n",
       "\n",
       "    EMPLOYED  MONTHS_BALANCE  STATUS  \n",
       "0  12.443836               0       7  \n",
       "1  12.443836              -1       7  \n",
       "2  12.443836              -2       7  \n",
       "3  12.443836              -3       7  \n",
       "4  12.443836              -4       7  \n",
       "\n",
       "[5 rows x 59 columns]"
      ]
     },
     "execution_count": 14,
     "metadata": {},
     "output_type": "execute_result"
    }
   ],
   "source": [
    "df.head()"
   ]
  },
  {
   "cell_type": "code",
   "execution_count": 15,
   "metadata": {
    "execution": {
     "iopub.execute_input": "2024-06-08T11:12:09.583461Z",
     "iopub.status.busy": "2024-06-08T11:12:09.582751Z",
     "iopub.status.idle": "2024-06-08T11:12:09.687964Z",
     "shell.execute_reply": "2024-06-08T11:12:09.686814Z",
     "shell.execute_reply.started": "2024-06-08T11:12:09.583430Z"
    }
   },
   "outputs": [
    {
     "data": {
      "text/plain": [
       "<bound method NDFrame.tail of              ID  CNT_CHILDREN  AMT_INCOME_TOTAL  DAYS_BIRTH  DAYS_EMPLOYED  \\\n",
       "0       5008804             0          427500.0      -12005          -4542   \n",
       "1       5008804             0          427500.0      -12005          -4542   \n",
       "2       5008804             0          427500.0      -12005          -4542   \n",
       "3       5008804             0          427500.0      -12005          -4542   \n",
       "4       5008804             0          427500.0      -12005          -4542   \n",
       "...         ...           ...               ...         ...            ...   \n",
       "777710  5150337             0          112500.0       -9188          -1193   \n",
       "777711  5150337             0          112500.0       -9188          -1193   \n",
       "777712  5150337             0          112500.0       -9188          -1193   \n",
       "777713  5150337             0          112500.0       -9188          -1193   \n",
       "777714  5150337             0          112500.0       -9188          -1193   \n",
       "\n",
       "        FLAG_MOBIL  FLAG_WORK_PHONE  FLAG_PHONE  FLAG_EMAIL  CNT_FAM_MEMBERS  \\\n",
       "0                1                1           0           0              2.0   \n",
       "1                1                1           0           0              2.0   \n",
       "2                1                1           0           0              2.0   \n",
       "3                1                1           0           0              2.0   \n",
       "4                1                1           0           0              2.0   \n",
       "...            ...              ...         ...         ...              ...   \n",
       "777710           1                0           0           0              1.0   \n",
       "777711           1                0           0           0              1.0   \n",
       "777712           1                0           0           0              1.0   \n",
       "777713           1                0           0           0              1.0   \n",
       "777714           1                0           0           0              1.0   \n",
       "\n",
       "        ...  OCCUPATION TYPE_Private service staff  \\\n",
       "0       ...                                      0   \n",
       "1       ...                                      0   \n",
       "2       ...                                      0   \n",
       "3       ...                                      0   \n",
       "4       ...                                      0   \n",
       "...     ...                                    ...   \n",
       "777710  ...                                      0   \n",
       "777711  ...                                      0   \n",
       "777712  ...                                      0   \n",
       "777713  ...                                      0   \n",
       "777714  ...                                      0   \n",
       "\n",
       "        OCCUPATION TYPE_Realty agents  OCCUPATION TYPE_Sales staff  \\\n",
       "0                                   0                            0   \n",
       "1                                   0                            0   \n",
       "2                                   0                            0   \n",
       "3                                   0                            0   \n",
       "4                                   0                            0   \n",
       "...                               ...                          ...   \n",
       "777710                              0                            0   \n",
       "777711                              0                            0   \n",
       "777712                              0                            0   \n",
       "777713                              0                            0   \n",
       "777714                              0                            0   \n",
       "\n",
       "        OCCUPATION TYPE_Secretaries  OCCUPATION TYPE_Security staff  \\\n",
       "0                                 0                               0   \n",
       "1                                 0                               0   \n",
       "2                                 0                               0   \n",
       "3                                 0                               0   \n",
       "4                                 0                               0   \n",
       "...                             ...                             ...   \n",
       "777710                            0                               0   \n",
       "777711                            0                               0   \n",
       "777712                            0                               0   \n",
       "777713                            0                               0   \n",
       "777714                            0                               0   \n",
       "\n",
       "        OCCUPATION TYPE_Waiters/barmen staff   AGE   EMPLOYED  MONTHS_BALANCE  \\\n",
       "0                                          0  33.0  12.443836               0   \n",
       "1                                          0  33.0  12.443836              -1   \n",
       "2                                          0  33.0  12.443836              -2   \n",
       "3                                          0  33.0  12.443836              -3   \n",
       "4                                          0  33.0  12.443836              -4   \n",
       "...                                      ...   ...        ...             ...   \n",
       "777710                                     0  25.0   3.268493              -9   \n",
       "777711                                     0  25.0   3.268493             -10   \n",
       "777712                                     0  25.0   3.268493             -11   \n",
       "777713                                     0  25.0   3.268493             -12   \n",
       "777714                                     0  25.0   3.268493             -13   \n",
       "\n",
       "        STATUS  \n",
       "0            7  \n",
       "1            7  \n",
       "2            7  \n",
       "3            7  \n",
       "4            7  \n",
       "...        ...  \n",
       "777710       0  \n",
       "777711       2  \n",
       "777712       1  \n",
       "777713       0  \n",
       "777714       0  \n",
       "\n",
       "[777715 rows x 59 columns]>"
      ]
     },
     "execution_count": 15,
     "metadata": {},
     "output_type": "execute_result"
    }
   ],
   "source": [
    "df.tail"
   ]
  },
  {
   "cell_type": "markdown",
   "metadata": {},
   "source": [
    "## Drop Kolom"
   ]
  },
  {
   "cell_type": "markdown",
   "metadata": {},
   "source": [
    "### buang kolom yang tidak digunakan"
   ]
  },
  {
   "cell_type": "markdown",
   "metadata": {},
   "source": [
    "kolom ini di buang karena saat one-hot encoding akan membuat kolom baru yang berupa bunary jadi kolom lama sudah tidak di gunakan lagi karna sudah tergantikan"
   ]
  },
  {
   "cell_type": "code",
   "execution_count": 16,
   "metadata": {
    "execution": {
     "iopub.execute_input": "2024-06-08T11:12:15.283592Z",
     "iopub.status.busy": "2024-06-08T11:12:15.282692Z",
     "iopub.status.idle": "2024-06-08T11:12:15.367837Z",
     "shell.execute_reply": "2024-06-08T11:12:15.366817Z",
     "shell.execute_reply.started": "2024-06-08T11:12:15.283557Z"
    }
   },
   "outputs": [],
   "source": [
    "df.drop(columns=['ID', 'AMT_INCOME_TOTAL', 'DAYS_BIRTH', 'DAYS_EMPLOYED'], inplace=True)"
   ]
  },
  {
   "cell_type": "code",
   "execution_count": 17,
   "metadata": {
    "execution": {
     "iopub.execute_input": "2024-06-08T11:12:16.862797Z",
     "iopub.status.busy": "2024-06-08T11:12:16.862368Z",
     "iopub.status.idle": "2024-06-08T11:12:17.059686Z",
     "shell.execute_reply": "2024-06-08T11:12:17.058720Z",
     "shell.execute_reply.started": "2024-06-08T11:12:16.862760Z"
    }
   },
   "outputs": [
    {
     "data": {
      "text/html": [
       "<div>\n",
       "<style scoped>\n",
       "    .dataframe tbody tr th:only-of-type {\n",
       "        vertical-align: middle;\n",
       "    }\n",
       "\n",
       "    .dataframe tbody tr th {\n",
       "        vertical-align: top;\n",
       "    }\n",
       "\n",
       "    .dataframe thead th {\n",
       "        text-align: right;\n",
       "    }\n",
       "</style>\n",
       "<table border=\"1\" class=\"dataframe\">\n",
       "  <thead>\n",
       "    <tr style=\"text-align: right;\">\n",
       "      <th></th>\n",
       "      <th>CNT_CHILDREN</th>\n",
       "      <th>FLAG_MOBIL</th>\n",
       "      <th>FLAG_WORK_PHONE</th>\n",
       "      <th>FLAG_PHONE</th>\n",
       "      <th>FLAG_EMAIL</th>\n",
       "      <th>CNT_FAM_MEMBERS</th>\n",
       "      <th>CODE GENDER_F</th>\n",
       "      <th>CODE GENDER_M</th>\n",
       "      <th>FLAG OWN CAR_N</th>\n",
       "      <th>FLAG OWN CAR_Y</th>\n",
       "      <th>...</th>\n",
       "      <th>OCCUPATION TYPE_Private service staff</th>\n",
       "      <th>OCCUPATION TYPE_Realty agents</th>\n",
       "      <th>OCCUPATION TYPE_Sales staff</th>\n",
       "      <th>OCCUPATION TYPE_Secretaries</th>\n",
       "      <th>OCCUPATION TYPE_Security staff</th>\n",
       "      <th>OCCUPATION TYPE_Waiters/barmen staff</th>\n",
       "      <th>AGE</th>\n",
       "      <th>EMPLOYED</th>\n",
       "      <th>MONTHS_BALANCE</th>\n",
       "      <th>STATUS</th>\n",
       "    </tr>\n",
       "  </thead>\n",
       "  <tbody>\n",
       "    <tr>\n",
       "      <th>0</th>\n",
       "      <td>0</td>\n",
       "      <td>1</td>\n",
       "      <td>1</td>\n",
       "      <td>0</td>\n",
       "      <td>0</td>\n",
       "      <td>2.0</td>\n",
       "      <td>0</td>\n",
       "      <td>1</td>\n",
       "      <td>0</td>\n",
       "      <td>1</td>\n",
       "      <td>...</td>\n",
       "      <td>0</td>\n",
       "      <td>0</td>\n",
       "      <td>0</td>\n",
       "      <td>0</td>\n",
       "      <td>0</td>\n",
       "      <td>0</td>\n",
       "      <td>33.0</td>\n",
       "      <td>12.443836</td>\n",
       "      <td>0</td>\n",
       "      <td>7</td>\n",
       "    </tr>\n",
       "    <tr>\n",
       "      <th>1</th>\n",
       "      <td>0</td>\n",
       "      <td>1</td>\n",
       "      <td>1</td>\n",
       "      <td>0</td>\n",
       "      <td>0</td>\n",
       "      <td>2.0</td>\n",
       "      <td>0</td>\n",
       "      <td>1</td>\n",
       "      <td>0</td>\n",
       "      <td>1</td>\n",
       "      <td>...</td>\n",
       "      <td>0</td>\n",
       "      <td>0</td>\n",
       "      <td>0</td>\n",
       "      <td>0</td>\n",
       "      <td>0</td>\n",
       "      <td>0</td>\n",
       "      <td>33.0</td>\n",
       "      <td>12.443836</td>\n",
       "      <td>-1</td>\n",
       "      <td>7</td>\n",
       "    </tr>\n",
       "    <tr>\n",
       "      <th>2</th>\n",
       "      <td>0</td>\n",
       "      <td>1</td>\n",
       "      <td>1</td>\n",
       "      <td>0</td>\n",
       "      <td>0</td>\n",
       "      <td>2.0</td>\n",
       "      <td>0</td>\n",
       "      <td>1</td>\n",
       "      <td>0</td>\n",
       "      <td>1</td>\n",
       "      <td>...</td>\n",
       "      <td>0</td>\n",
       "      <td>0</td>\n",
       "      <td>0</td>\n",
       "      <td>0</td>\n",
       "      <td>0</td>\n",
       "      <td>0</td>\n",
       "      <td>33.0</td>\n",
       "      <td>12.443836</td>\n",
       "      <td>-2</td>\n",
       "      <td>7</td>\n",
       "    </tr>\n",
       "    <tr>\n",
       "      <th>3</th>\n",
       "      <td>0</td>\n",
       "      <td>1</td>\n",
       "      <td>1</td>\n",
       "      <td>0</td>\n",
       "      <td>0</td>\n",
       "      <td>2.0</td>\n",
       "      <td>0</td>\n",
       "      <td>1</td>\n",
       "      <td>0</td>\n",
       "      <td>1</td>\n",
       "      <td>...</td>\n",
       "      <td>0</td>\n",
       "      <td>0</td>\n",
       "      <td>0</td>\n",
       "      <td>0</td>\n",
       "      <td>0</td>\n",
       "      <td>0</td>\n",
       "      <td>33.0</td>\n",
       "      <td>12.443836</td>\n",
       "      <td>-3</td>\n",
       "      <td>7</td>\n",
       "    </tr>\n",
       "    <tr>\n",
       "      <th>4</th>\n",
       "      <td>0</td>\n",
       "      <td>1</td>\n",
       "      <td>1</td>\n",
       "      <td>0</td>\n",
       "      <td>0</td>\n",
       "      <td>2.0</td>\n",
       "      <td>0</td>\n",
       "      <td>1</td>\n",
       "      <td>0</td>\n",
       "      <td>1</td>\n",
       "      <td>...</td>\n",
       "      <td>0</td>\n",
       "      <td>0</td>\n",
       "      <td>0</td>\n",
       "      <td>0</td>\n",
       "      <td>0</td>\n",
       "      <td>0</td>\n",
       "      <td>33.0</td>\n",
       "      <td>12.443836</td>\n",
       "      <td>-4</td>\n",
       "      <td>7</td>\n",
       "    </tr>\n",
       "    <tr>\n",
       "      <th>...</th>\n",
       "      <td>...</td>\n",
       "      <td>...</td>\n",
       "      <td>...</td>\n",
       "      <td>...</td>\n",
       "      <td>...</td>\n",
       "      <td>...</td>\n",
       "      <td>...</td>\n",
       "      <td>...</td>\n",
       "      <td>...</td>\n",
       "      <td>...</td>\n",
       "      <td>...</td>\n",
       "      <td>...</td>\n",
       "      <td>...</td>\n",
       "      <td>...</td>\n",
       "      <td>...</td>\n",
       "      <td>...</td>\n",
       "      <td>...</td>\n",
       "      <td>...</td>\n",
       "      <td>...</td>\n",
       "      <td>...</td>\n",
       "      <td>...</td>\n",
       "    </tr>\n",
       "    <tr>\n",
       "      <th>777710</th>\n",
       "      <td>0</td>\n",
       "      <td>1</td>\n",
       "      <td>0</td>\n",
       "      <td>0</td>\n",
       "      <td>0</td>\n",
       "      <td>1.0</td>\n",
       "      <td>0</td>\n",
       "      <td>1</td>\n",
       "      <td>1</td>\n",
       "      <td>0</td>\n",
       "      <td>...</td>\n",
       "      <td>0</td>\n",
       "      <td>0</td>\n",
       "      <td>0</td>\n",
       "      <td>0</td>\n",
       "      <td>0</td>\n",
       "      <td>0</td>\n",
       "      <td>25.0</td>\n",
       "      <td>3.268493</td>\n",
       "      <td>-9</td>\n",
       "      <td>0</td>\n",
       "    </tr>\n",
       "    <tr>\n",
       "      <th>777711</th>\n",
       "      <td>0</td>\n",
       "      <td>1</td>\n",
       "      <td>0</td>\n",
       "      <td>0</td>\n",
       "      <td>0</td>\n",
       "      <td>1.0</td>\n",
       "      <td>0</td>\n",
       "      <td>1</td>\n",
       "      <td>1</td>\n",
       "      <td>0</td>\n",
       "      <td>...</td>\n",
       "      <td>0</td>\n",
       "      <td>0</td>\n",
       "      <td>0</td>\n",
       "      <td>0</td>\n",
       "      <td>0</td>\n",
       "      <td>0</td>\n",
       "      <td>25.0</td>\n",
       "      <td>3.268493</td>\n",
       "      <td>-10</td>\n",
       "      <td>2</td>\n",
       "    </tr>\n",
       "    <tr>\n",
       "      <th>777712</th>\n",
       "      <td>0</td>\n",
       "      <td>1</td>\n",
       "      <td>0</td>\n",
       "      <td>0</td>\n",
       "      <td>0</td>\n",
       "      <td>1.0</td>\n",
       "      <td>0</td>\n",
       "      <td>1</td>\n",
       "      <td>1</td>\n",
       "      <td>0</td>\n",
       "      <td>...</td>\n",
       "      <td>0</td>\n",
       "      <td>0</td>\n",
       "      <td>0</td>\n",
       "      <td>0</td>\n",
       "      <td>0</td>\n",
       "      <td>0</td>\n",
       "      <td>25.0</td>\n",
       "      <td>3.268493</td>\n",
       "      <td>-11</td>\n",
       "      <td>1</td>\n",
       "    </tr>\n",
       "    <tr>\n",
       "      <th>777713</th>\n",
       "      <td>0</td>\n",
       "      <td>1</td>\n",
       "      <td>0</td>\n",
       "      <td>0</td>\n",
       "      <td>0</td>\n",
       "      <td>1.0</td>\n",
       "      <td>0</td>\n",
       "      <td>1</td>\n",
       "      <td>1</td>\n",
       "      <td>0</td>\n",
       "      <td>...</td>\n",
       "      <td>0</td>\n",
       "      <td>0</td>\n",
       "      <td>0</td>\n",
       "      <td>0</td>\n",
       "      <td>0</td>\n",
       "      <td>0</td>\n",
       "      <td>25.0</td>\n",
       "      <td>3.268493</td>\n",
       "      <td>-12</td>\n",
       "      <td>0</td>\n",
       "    </tr>\n",
       "    <tr>\n",
       "      <th>777714</th>\n",
       "      <td>0</td>\n",
       "      <td>1</td>\n",
       "      <td>0</td>\n",
       "      <td>0</td>\n",
       "      <td>0</td>\n",
       "      <td>1.0</td>\n",
       "      <td>0</td>\n",
       "      <td>1</td>\n",
       "      <td>1</td>\n",
       "      <td>0</td>\n",
       "      <td>...</td>\n",
       "      <td>0</td>\n",
       "      <td>0</td>\n",
       "      <td>0</td>\n",
       "      <td>0</td>\n",
       "      <td>0</td>\n",
       "      <td>0</td>\n",
       "      <td>25.0</td>\n",
       "      <td>3.268493</td>\n",
       "      <td>-13</td>\n",
       "      <td>0</td>\n",
       "    </tr>\n",
       "  </tbody>\n",
       "</table>\n",
       "<p>777715 rows × 55 columns</p>\n",
       "</div>"
      ],
      "text/plain": [
       "        CNT_CHILDREN  FLAG_MOBIL  FLAG_WORK_PHONE  FLAG_PHONE  FLAG_EMAIL  \\\n",
       "0                  0           1                1           0           0   \n",
       "1                  0           1                1           0           0   \n",
       "2                  0           1                1           0           0   \n",
       "3                  0           1                1           0           0   \n",
       "4                  0           1                1           0           0   \n",
       "...              ...         ...              ...         ...         ...   \n",
       "777710             0           1                0           0           0   \n",
       "777711             0           1                0           0           0   \n",
       "777712             0           1                0           0           0   \n",
       "777713             0           1                0           0           0   \n",
       "777714             0           1                0           0           0   \n",
       "\n",
       "        CNT_FAM_MEMBERS  CODE GENDER_F  CODE GENDER_M  FLAG OWN CAR_N  \\\n",
       "0                   2.0              0              1               0   \n",
       "1                   2.0              0              1               0   \n",
       "2                   2.0              0              1               0   \n",
       "3                   2.0              0              1               0   \n",
       "4                   2.0              0              1               0   \n",
       "...                 ...            ...            ...             ...   \n",
       "777710              1.0              0              1               1   \n",
       "777711              1.0              0              1               1   \n",
       "777712              1.0              0              1               1   \n",
       "777713              1.0              0              1               1   \n",
       "777714              1.0              0              1               1   \n",
       "\n",
       "        FLAG OWN CAR_Y  ...  OCCUPATION TYPE_Private service staff  \\\n",
       "0                    1  ...                                      0   \n",
       "1                    1  ...                                      0   \n",
       "2                    1  ...                                      0   \n",
       "3                    1  ...                                      0   \n",
       "4                    1  ...                                      0   \n",
       "...                ...  ...                                    ...   \n",
       "777710               0  ...                                      0   \n",
       "777711               0  ...                                      0   \n",
       "777712               0  ...                                      0   \n",
       "777713               0  ...                                      0   \n",
       "777714               0  ...                                      0   \n",
       "\n",
       "        OCCUPATION TYPE_Realty agents  OCCUPATION TYPE_Sales staff  \\\n",
       "0                                   0                            0   \n",
       "1                                   0                            0   \n",
       "2                                   0                            0   \n",
       "3                                   0                            0   \n",
       "4                                   0                            0   \n",
       "...                               ...                          ...   \n",
       "777710                              0                            0   \n",
       "777711                              0                            0   \n",
       "777712                              0                            0   \n",
       "777713                              0                            0   \n",
       "777714                              0                            0   \n",
       "\n",
       "        OCCUPATION TYPE_Secretaries  OCCUPATION TYPE_Security staff  \\\n",
       "0                                 0                               0   \n",
       "1                                 0                               0   \n",
       "2                                 0                               0   \n",
       "3                                 0                               0   \n",
       "4                                 0                               0   \n",
       "...                             ...                             ...   \n",
       "777710                            0                               0   \n",
       "777711                            0                               0   \n",
       "777712                            0                               0   \n",
       "777713                            0                               0   \n",
       "777714                            0                               0   \n",
       "\n",
       "        OCCUPATION TYPE_Waiters/barmen staff   AGE   EMPLOYED  MONTHS_BALANCE  \\\n",
       "0                                          0  33.0  12.443836               0   \n",
       "1                                          0  33.0  12.443836              -1   \n",
       "2                                          0  33.0  12.443836              -2   \n",
       "3                                          0  33.0  12.443836              -3   \n",
       "4                                          0  33.0  12.443836              -4   \n",
       "...                                      ...   ...        ...             ...   \n",
       "777710                                     0  25.0   3.268493              -9   \n",
       "777711                                     0  25.0   3.268493             -10   \n",
       "777712                                     0  25.0   3.268493             -11   \n",
       "777713                                     0  25.0   3.268493             -12   \n",
       "777714                                     0  25.0   3.268493             -13   \n",
       "\n",
       "        STATUS  \n",
       "0            7  \n",
       "1            7  \n",
       "2            7  \n",
       "3            7  \n",
       "4            7  \n",
       "...        ...  \n",
       "777710       0  \n",
       "777711       2  \n",
       "777712       1  \n",
       "777713       0  \n",
       "777714       0  \n",
       "\n",
       "[777715 rows x 55 columns]"
      ]
     },
     "execution_count": 17,
     "metadata": {},
     "output_type": "execute_result"
    }
   ],
   "source": [
    "df"
   ]
  },
  {
   "cell_type": "markdown",
   "metadata": {},
   "source": [
    "## nomalisai"
   ]
  },
  {
   "cell_type": "markdown",
   "metadata": {},
   "source": [
    "### melakukan normalisasi menggunakan MinMax scaler"
   ]
  },
  {
   "cell_type": "markdown",
   "metadata": {},
   "source": [
    "normalissasi berguna untuk mengubah nilai menjadi antara 0-1 agar tidak terjadi perbedaan data yang signifikan antar input yang lain"
   ]
  },
  {
   "cell_type": "code",
   "execution_count": 18,
   "metadata": {
    "execution": {
     "iopub.execute_input": "2024-06-08T11:12:28.183935Z",
     "iopub.status.busy": "2024-06-08T11:12:28.183503Z",
     "iopub.status.idle": "2024-06-08T11:12:29.678536Z",
     "shell.execute_reply": "2024-06-08T11:12:29.677716Z",
     "shell.execute_reply.started": "2024-06-08T11:12:28.183903Z"
    }
   },
   "outputs": [],
   "source": [
    "from sklearn.preprocessing import MinMaxScaler\n",
    "\n",
    "# Inisialisasi MinMaxScaler\n",
    "scaler = MinMaxScaler()\n",
    "\n",
    "# Ambil kolom yang ingin dinormalisasi (tidak termasuk kolom \"STATUS\")\n",
    "columns_to_normalize = df.columns.difference(['STATUS'])\n",
    "\n",
    "# Lakukan normalisasi pada kolom yang dipilih\n",
    "df_normalized = df.copy()  # Membuat salinan DataFrame untuk hasil normalisasi\n",
    "df_normalized[columns_to_normalize] = scaler.fit_transform(df_normalized[columns_to_normalize])\n"
   ]
  },
  {
   "cell_type": "markdown",
   "metadata": {},
   "source": [
    "simpan data normalisasi"
   ]
  },
  {
   "cell_type": "code",
   "execution_count": 19,
   "metadata": {
    "execution": {
     "iopub.execute_input": "2024-06-08T11:12:31.041371Z",
     "iopub.status.busy": "2024-06-08T11:12:31.040993Z",
     "iopub.status.idle": "2024-06-08T11:13:06.392581Z",
     "shell.execute_reply": "2024-06-08T11:13:06.391781Z",
     "shell.execute_reply.started": "2024-06-08T11:12:31.041341Z"
    }
   },
   "outputs": [],
   "source": [
    "df_normalized.to_csv('normal.csv')"
   ]
  },
  {
   "cell_type": "code",
   "execution_count": 20,
   "metadata": {
    "execution": {
     "iopub.execute_input": "2024-06-08T11:13:06.394617Z",
     "iopub.status.busy": "2024-06-08T11:13:06.394321Z",
     "iopub.status.idle": "2024-06-08T11:13:06.404011Z",
     "shell.execute_reply": "2024-06-08T11:13:06.403066Z",
     "shell.execute_reply.started": "2024-06-08T11:13:06.394592Z"
    }
   },
   "outputs": [
    {
     "data": {
      "text/plain": [
       "CNT_CHILDREN                                         float64\n",
       "FLAG_MOBIL                                           float64\n",
       "FLAG_WORK_PHONE                                      float64\n",
       "FLAG_PHONE                                           float64\n",
       "FLAG_EMAIL                                           float64\n",
       "CNT_FAM_MEMBERS                                      float64\n",
       "CODE GENDER_F                                        float64\n",
       "CODE GENDER_M                                        float64\n",
       "FLAG OWN CAR_N                                       float64\n",
       "FLAG OWN CAR_Y                                       float64\n",
       "FLAG OWN REALTY_N                                    float64\n",
       "FLAG OWN REALTY_Y                                    float64\n",
       "NAME INCOME TYPE_Commercial associate                float64\n",
       "NAME INCOME TYPE_Pensioner                           float64\n",
       "NAME INCOME TYPE_State servant                       float64\n",
       "NAME INCOME TYPE_Student                             float64\n",
       "NAME INCOME TYPE_Working                             float64\n",
       "NAME EDUCATION TYPE_Academic degree                  float64\n",
       "NAME EDUCATION TYPE_Higher education                 float64\n",
       "NAME EDUCATION TYPE_Incomplete higher                float64\n",
       "NAME EDUCATION TYPE_Lower secondary                  float64\n",
       "NAME EDUCATION TYPE_Secondary / secondary special    float64\n",
       "NAME FAMILY STATUS_Civil marriage                    float64\n",
       "NAME FAMILY STATUS_Married                           float64\n",
       "NAME FAMILY STATUS_Separated                         float64\n",
       "NAME FAMILY STATUS_Single / not married              float64\n",
       "NAME FAMILY STATUS_Widow                             float64\n",
       "NAME HOUSING TYPE_Co-op apartment                    float64\n",
       "NAME HOUSING TYPE_House / apartment                  float64\n",
       "NAME HOUSING TYPE_Municipal apartment                float64\n",
       "NAME HOUSING TYPE_Office apartment                   float64\n",
       "NAME HOUSING TYPE_Rented apartment                   float64\n",
       "NAME HOUSING TYPE_With parents                       float64\n",
       "OCCUPATION TYPE_Accountants                          float64\n",
       "OCCUPATION TYPE_Cleaning staff                       float64\n",
       "OCCUPATION TYPE_Cooking staff                        float64\n",
       "OCCUPATION TYPE_Core staff                           float64\n",
       "OCCUPATION TYPE_Drivers                              float64\n",
       "OCCUPATION TYPE_HR staff                             float64\n",
       "OCCUPATION TYPE_High skill tech staff                float64\n",
       "OCCUPATION TYPE_IT staff                             float64\n",
       "OCCUPATION TYPE_Laborers                             float64\n",
       "OCCUPATION TYPE_Low-skill Laborers                   float64\n",
       "OCCUPATION TYPE_Managers                             float64\n",
       "OCCUPATION TYPE_Medicine staff                       float64\n",
       "OCCUPATION TYPE_Private service staff                float64\n",
       "OCCUPATION TYPE_Realty agents                        float64\n",
       "OCCUPATION TYPE_Sales staff                          float64\n",
       "OCCUPATION TYPE_Secretaries                          float64\n",
       "OCCUPATION TYPE_Security staff                       float64\n",
       "OCCUPATION TYPE_Waiters/barmen staff                 float64\n",
       "AGE                                                  float64\n",
       "EMPLOYED                                             float64\n",
       "MONTHS_BALANCE                                       float64\n",
       "STATUS                                                object\n",
       "dtype: object"
      ]
     },
     "execution_count": 20,
     "metadata": {},
     "output_type": "execute_result"
    }
   ],
   "source": [
    "df_normalized.dtypes"
   ]
  },
  {
   "cell_type": "markdown",
   "metadata": {},
   "source": [
    "## membagi data menjadi train dan tes"
   ]
  },
  {
   "cell_type": "markdown",
   "metadata": {},
   "source": [
    "data akan di bagi menjadi test dan train dengan distribusi data train 80% dan test 20%  "
   ]
  },
  {
   "cell_type": "code",
   "execution_count": 21,
   "metadata": {
    "execution": {
     "iopub.execute_input": "2024-06-08T11:13:06.405386Z",
     "iopub.status.busy": "2024-06-08T11:13:06.405112Z",
     "iopub.status.idle": "2024-06-08T11:13:11.191029Z",
     "shell.execute_reply": "2024-06-08T11:13:11.190213Z",
     "shell.execute_reply.started": "2024-06-08T11:13:06.405358Z"
    }
   },
   "outputs": [],
   "source": [
    "# data = pd.read_csv('/kaggle/working/normal.csv')"
   ]
  },
  {
   "cell_type": "code",
   "execution_count": 22,
   "metadata": {
    "execution": {
     "iopub.execute_input": "2024-06-08T11:13:11.192369Z",
     "iopub.status.busy": "2024-06-08T11:13:11.192092Z",
     "iopub.status.idle": "2024-06-08T11:13:12.051703Z",
     "shell.execute_reply": "2024-06-08T11:13:12.050879Z",
     "shell.execute_reply.started": "2024-06-08T11:13:11.192324Z"
    }
   },
   "outputs": [],
   "source": [
    "from sklearn.model_selection import train_test_split\n",
    "\n",
    "# Pisahkan fitur (X) dan label (Y)\n",
    "X = data.drop(columns=['STATUS'])  # Ambil semua kolom kecuali 'STATUS'\n",
    "Y = data['STATUS']  # Ambil kolom 'STATUS' sebagai label\n",
    "\n",
    "# Bagi data menjadi data pelatihan dan data uji\n",
    "# Gunakan parameter stratify untuk memastikan pembagian yang seimbang berdasarkan label Y\n",
    "X_train, X_test, Y_train, Y_test = train_test_split(X, Y, test_size=0.2, random_state=42, stratify=Y)\n"
   ]
  },
  {
   "cell_type": "markdown",
   "metadata": {},
   "source": [
    "## Modeling"
   ]
  },
  {
   "cell_type": "markdown",
   "metadata": {},
   "source": [
    "### Memnamgun model dengan Multi Layer Perceptron"
   ]
  },
  {
   "cell_type": "code",
   "execution_count": 23,
   "metadata": {
    "execution": {
     "iopub.execute_input": "2024-06-08T11:13:12.054358Z",
     "iopub.status.busy": "2024-06-08T11:13:12.054057Z",
     "iopub.status.idle": "2024-06-08T11:21:08.044388Z",
     "shell.execute_reply": "2024-06-08T11:21:08.043023Z",
     "shell.execute_reply.started": "2024-06-08T11:13:12.054332Z"
    }
   },
   "outputs": [
    {
     "name": "stdout",
     "output_type": "stream",
     "text": [
      "Accuracy: 0.42372205756607495\n"
     ]
    }
   ],
   "source": [
    "from sklearn.neural_network import MLPClassifier\n",
    "from sklearn.metrics import accuracy_score\n",
    "\n",
    "# Inisialisasi model MLP\n",
    "mlp_model = MLPClassifier(hidden_layer_sizes=(100, 50), max_iter=50, random_state=42)\n",
    "\n",
    "# Latih model pada data pelatihan\n",
    "mlp_model.fit(X_train, Y_train)\n",
    "\n",
    "# Lakukan prediksi pada data uji\n",
    "Y_pred = mlp_model.predict(X_test)\n",
    "\n",
    "# Evaluasi performa model\n",
    "accuracy = accuracy_score(Y_test, Y_pred)\n",
    "print(\"Accuracy:\", accuracy)\n"
   ]
  },
  {
   "cell_type": "markdown",
   "metadata": {},
   "source": [
    "### Membangun model dengan KNN"
   ]
  },
  {
   "cell_type": "code",
   "execution_count": 24,
   "metadata": {
    "execution": {
     "iopub.execute_input": "2024-06-08T11:21:08.047111Z",
     "iopub.status.busy": "2024-06-08T11:21:08.046285Z",
     "iopub.status.idle": "2024-06-08T11:25:52.638957Z",
     "shell.execute_reply": "2024-06-08T11:25:52.638031Z",
     "shell.execute_reply.started": "2024-06-08T11:21:08.047054Z"
    }
   },
   "outputs": [
    {
     "name": "stdout",
     "output_type": "stream",
     "text": [
      "Accuracy KNN: 0.8835434574362073\n"
     ]
    }
   ],
   "source": [
    "from sklearn.neighbors import KNeighborsClassifier\n",
    "\n",
    "# Inisialisasi model KNN\n",
    "knn_model = KNeighborsClassifier(n_neighbors=5)\n",
    "\n",
    "# Latih model pada data pelatihan\n",
    "knn_model.fit(X_train, Y_train)\n",
    "\n",
    "# Lakukan prediksi pada data uji\n",
    "Y_pred_knn = knn_model.predict(X_test)\n",
    "\n",
    "# Evaluasi performa model\n",
    "accuracy_knn = accuracy_score(Y_test, Y_pred_knn)\n",
    "print(\"Accuracy KNN:\", accuracy_knn)\n"
   ]
  },
  {
   "cell_type": "markdown",
   "metadata": {},
   "source": [
    "### Membangun model dengan gaussian naive bayes"
   ]
  },
  {
   "cell_type": "code",
   "execution_count": 25,
   "metadata": {
    "execution": {
     "iopub.execute_input": "2024-06-08T11:25:52.640582Z",
     "iopub.status.busy": "2024-06-08T11:25:52.640258Z",
     "iopub.status.idle": "2024-06-08T11:25:53.939904Z",
     "shell.execute_reply": "2024-06-08T11:25:53.938923Z",
     "shell.execute_reply.started": "2024-06-08T11:25:52.640556Z"
    }
   },
   "outputs": [
    {
     "name": "stdout",
     "output_type": "stream",
     "text": [
      "Accuracy Naive Bayes: 0.42372205756607495\n"
     ]
    }
   ],
   "source": [
    "from sklearn.naive_bayes import GaussianNB\n",
    "\n",
    "# Inisialisasi model Naive Bayes\n",
    "nb_model = GaussianNB()\n",
    "\n",
    "# Latih model pada data pelatihan\n",
    "nb_model.fit(X_train, Y_train)\n",
    "\n",
    "# Lakukan prediksi pada data uji\n",
    "Y_pred_nb = nb_model.predict(X_test)\n",
    "\n",
    "# Evaluasi performa model\n",
    "accuracy_nb = accuracy_score(Y_test, Y_pred_nb)\n",
    "print(\"Accuracy Naive Bayes:\", accuracy_nb)\n"
   ]
  },
  {
   "cell_type": "markdown",
   "metadata": {},
   "source": [
    "### Membangn=un Model dengan Random Forest Classifier"
   ]
  },
  {
   "cell_type": "code",
   "execution_count": 26,
   "metadata": {
    "execution": {
     "iopub.execute_input": "2024-06-08T11:25:53.941734Z",
     "iopub.status.busy": "2024-06-08T11:25:53.941317Z",
     "iopub.status.idle": "2024-06-08T11:29:07.440282Z",
     "shell.execute_reply": "2024-06-08T11:29:07.439322Z",
     "shell.execute_reply.started": "2024-06-08T11:25:53.941698Z"
    }
   },
   "outputs": [
    {
     "name": "stdout",
     "output_type": "stream",
     "text": [
      "Accuracy Random Forest: 0.8743562873289058\n"
     ]
    }
   ],
   "source": [
    "from sklearn.ensemble import RandomForestClassifier\n",
    "from sklearn.metrics import accuracy_score\n",
    "\n",
    "# Inisialisasi model Random Forest\n",
    "rf_model = RandomForestClassifier(n_estimators=100, random_state=42)\n",
    "\n",
    "# Latih model pada data pelatihan\n",
    "rf_model.fit(X_train, Y_train)\n",
    "\n",
    "# Lakukan prediksi pada data uji\n",
    "Y_pred_rf = rf_model.predict(X_test)\n",
    "\n",
    "# Evaluasi performa model\n",
    "accuracy_rf = accuracy_score(Y_test, Y_pred_rf)\n",
    "print(\"Accuracy Random Forest:\", accuracy_rf)\n"
   ]
  },
  {
   "cell_type": "markdown",
   "metadata": {},
   "source": [
    "## Evaluasi Matrix Setiap Model"
   ]
  },
  {
   "cell_type": "markdown",
   "metadata": {},
   "source": [
    "### Confusion Matrix for MLP Classifier"
   ]
  },
  {
   "cell_type": "code",
   "execution_count": 27,
   "metadata": {
    "execution": {
     "iopub.execute_input": "2024-06-08T11:29:07.442101Z",
     "iopub.status.busy": "2024-06-08T11:29:07.441674Z",
     "iopub.status.idle": "2024-06-08T11:29:08.035889Z",
     "shell.execute_reply": "2024-06-08T11:29:08.034960Z",
     "shell.execute_reply.started": "2024-06-08T11:29:07.442065Z"
    }
   },
   "outputs": [
    {
     "data": {
      "image/png": "[encoded data removed]",
      "text/plain": [
       "<Figure size 640x480 with 2 Axes>"
      ]
     },
     "metadata": {},
     "output_type": "display_data"
    }
   ],
   "source": [
    "import matplotlib.pyplot as plt\n",
    "from sklearn.metrics import confusion_matrix, ConfusionMatrixDisplay\n",
    "\n",
    "# Menghitung confusion matrix\n",
    "cm = confusion_matrix(Y_test, Y_pred)\n",
    "\n",
    "# Menampilkan confusion matrix\n",
    "disp = ConfusionMatrixDisplay(confusion_matrix=cm)\n",
    "disp.plot(cmap=plt.cm.Blues)\n",
    "plt.title(\"Confusion Matrix for MLP Classifier\")\n",
    "plt.show()\n"
   ]
  },
  {
   "cell_type": "markdown",
   "metadata": {},
   "source": [
    "### Confusion Matrix for KNN Classifier"
   ]
  },
  {
   "cell_type": "code",
   "execution_count": 28,
   "metadata": {
    "execution": {
     "iopub.execute_input": "2024-06-08T11:29:08.039061Z",
     "iopub.status.busy": "2024-06-08T11:29:08.037233Z",
     "iopub.status.idle": "2024-06-08T11:29:08.526201Z",
     "shell.execute_reply": "2024-06-08T11:29:08.525190Z",
     "shell.execute_reply.started": "2024-06-08T11:29:08.039032Z"
    }
   },
   "outputs": [
    {
     "data": {
      "image/png": "[encoded data removed]",
      "text/plain": [
       "<Figure size 640x480 with 2 Axes>"
      ]
     },
     "metadata": {},
     "output_type": "display_data"
    }
   ],
   "source": [
    "# Menghitung confusion matrix\n",
    "cm_knn = confusion_matrix(Y_test, Y_pred_knn)\n",
    "\n",
    "# Menampilkan confusion matrix\n",
    "disp_knn = ConfusionMatrixDisplay(confusion_matrix=cm_knn)\n",
    "disp_knn.plot(cmap=plt.cm.BuGn)\n",
    "plt.title(\"Confusion Matrix for KNN Classifier\")\n",
    "plt.show()\n"
   ]
  },
  {
   "cell_type": "markdown",
   "metadata": {},
   "source": [
    "### Confusion Matrix for Naive Bayes Classifier"
   ]
  },
  {
   "cell_type": "code",
   "execution_count": 29,
   "metadata": {
    "execution": {
     "iopub.execute_input": "2024-06-08T11:29:08.530601Z",
     "iopub.status.busy": "2024-06-08T11:29:08.529904Z",
     "iopub.status.idle": "2024-06-08T11:29:08.930078Z",
     "shell.execute_reply": "2024-06-08T11:29:08.929163Z",
     "shell.execute_reply.started": "2024-06-08T11:29:08.530564Z"
    }
   },
   "outputs": [
    {
     "data": {
      "image/png": "[encoded data removed]",
      "text/plain": [
       "<Figure size 640x480 with 2 Axes>"
      ]
     },
     "metadata": {},
     "output_type": "display_data"
    }
   ],
   "source": [
    "# Menghitung confusion matrix\n",
    "cm_nb = confusion_matrix(Y_test, Y_pred_nb)\n",
    "\n",
    "# Menampilkan confusion matrix\n",
    "disp_nb = ConfusionMatrixDisplay(confusion_matrix=cm_nb)\n",
    "disp_nb.plot(cmap=plt.cm.PuBu)\n",
    "plt.title(\"Confusion Matrix for Naive Bayes Classifier\")\n",
    "plt.show()"
   ]
  },
  {
   "cell_type": "markdown",
   "metadata": {},
   "source": [
    "### Confusion Matrix for Random Forest Classifier"
   ]
  },
  {
   "cell_type": "code",
   "execution_count": 30,
   "metadata": {
    "execution": {
     "iopub.execute_input": "2024-06-08T11:29:08.931859Z",
     "iopub.status.busy": "2024-06-08T11:29:08.931366Z",
     "iopub.status.idle": "2024-06-08T11:29:09.344780Z",
     "shell.execute_reply": "2024-06-08T11:29:09.343823Z",
     "shell.execute_reply.started": "2024-06-08T11:29:08.931823Z"
    }
   },
   "outputs": [
    {
     "data": {
      "image/png": "[encoded data removed]",
      "text/plain": [
       "<Figure size 640x480 with 2 Axes>"
      ]
     },
     "metadata": {},
     "output_type": "display_data"
    }
   ],
   "source": [
    "# Menghitung confusion matrix\n",
    "cm_rf = confusion_matrix(Y_test, Y_pred_rf)\n",
    "\n",
    "# Menampilkan confusion matrix\n",
    "disp_rf = ConfusionMatrixDisplay(confusion_matrix=cm_rf)\n",
    "disp_rf.plot(cmap=plt.cm.GnBu)\n",
    "plt.title(\"Confusion Matrix for Random Forest Classifier\")\n",
    "plt.show()"
   ]
  },
  {
   "cell_type": "markdown",
   "metadata": {},
   "source": [
    "## Melihat distribusi data test dan train"
   ]
  },
  {
   "cell_type": "markdown",
   "metadata": {},
   "source": [
    "langkah ini di lakukan untuk mencocokan jumlah data pada cinfusion matrix"
   ]
  },
  {
   "cell_type": "code",
   "execution_count": 31,
   "metadata": {
    "execution": {
     "iopub.execute_input": "2024-06-08T11:29:09.346581Z",
     "iopub.status.busy": "2024-06-08T11:29:09.346169Z",
     "iopub.status.idle": "2024-06-08T11:29:09.604645Z",
     "shell.execute_reply": "2024-06-08T11:29:09.603653Z",
     "shell.execute_reply.started": "2024-06-08T11:29:09.346542Z"
    }
   },
   "outputs": [
    {
     "data": {
      "image/png": "[encoded data removed]",
      "text/plain": [
       "<Figure size 800x600 with 1 Axes>"
      ]
     },
     "metadata": {},
     "output_type": "display_data"
    }
   ],
   "source": [
    "\n",
    "train_size = len(X_train)\n",
    "test_size = len(X_test)\n",
    "\n",
    "\n",
    "plt.figure(figsize=(8, 6))\n",
    "bars = plt.bar([\"Train\", \"Test\"], [train_size, test_size], color=['skyblue', 'lightcoral'])\n",
    "\n",
    "\n",
    "for bar in bars:\n",
    "    plt.text(bar.get_x() + bar.get_width()/2 - 0.05, bar.get_height() + 100, '%d' % int(bar.get_height()), ha='center', va='bottom', color='black')\n",
    "\n",
    "\n",
    "plt.title('Train and Test Data Sizes')\n",
    "plt.ylabel('Number of Samples')\n",
    "plt.xlabel('Dataset')\n",
    "\n",
    "\n",
    "plt.show()"
   ]
  },
  {
   "cell_type": "code",
   "execution_count": 32,
   "metadata": {
    "execution": {
     "iopub.execute_input": "2024-06-08T11:29:09.606675Z",
     "iopub.status.busy": "2024-06-08T11:29:09.606283Z",
     "iopub.status.idle": "2024-06-08T11:29:10.001579Z",
     "shell.execute_reply": "2024-06-08T11:29:10.000616Z",
     "shell.execute_reply.started": "2024-06-08T11:29:09.606629Z"
    }
   },
   "outputs": [
    {
     "data": {
      "image/png": "[encoded data removed]",
      "text/plain": [
       "<Figure size 1000x600 with 1 Axes>"
      ]
     },
     "metadata": {},
     "output_type": "display_data"
    }
   ],
   "source": [
    "import numpy as np\n",
    "\n",
    "train_size = len(X_train)\n",
    "test_size = len(X_test)\n",
    "\n",
    "unique_classes = np.unique(np.concatenate((Y_train, Y_test), axis=None))\n",
    "\n",
    "\n",
    "train_class_counts = [np.sum(Y_train == cls) for cls in unique_classes]\n",
    "test_class_counts = [np.sum(Y_test == cls) for cls in unique_classes]\n",
    "\n",
    "\n",
    "fig, ax = plt.subplots(figsize=(10, 6))\n",
    "bar_width = 0.35\n",
    "index = np.arange(len(unique_classes))\n",
    "\n",
    "train_bars = ax.bar(index - bar_width/2, train_class_counts, bar_width, label='Train', color='skyblue')\n",
    "test_bars = ax.bar(index + bar_width/2, test_class_counts, bar_width, label='Test', color='lightcoral')\n",
    "\n",
    "\n",
    "for bar in train_bars:\n",
    "    plt.text(bar.get_x() + bar.get_width()/2 - 0.2, bar.get_height() + 20, '%d' % int(bar.get_height()), ha='center', va='bottom', color='black')\n",
    "\n",
    "for bar in test_bars:\n",
    "    plt.text(bar.get_x() + bar.get_width()/2 + 0.2, bar.get_height() + 20, '%d' % int(bar.get_height()), ha='center', va='bottom', color='black')\n",
    "\n",
    "\n",
    "ax.set_title('Class Distribution in Train and Test Data')\n",
    "ax.set_xlabel('STATUS')\n",
    "ax.set_ylabel('Number of Samples')\n",
    "ax.set_xticks(index)\n",
    "ax.set_xticklabels(unique_classes)\n",
    "ax.legend()\n",
    "\n",
    "\n",
    "plt.tight_layout()\n",
    "plt.show()"
   ]
  }
 ],
 "metadata": {
  "kaggle": {
   "accelerator": "none",
   "dataSources": [
    {
     "datasetId": 426827,
     "sourceId": 1031720,
     "sourceType": "datasetVersion"
    }
   ],
   "dockerImageVersionId": 30715,
   "isGpuEnabled": false,
   "isInternetEnabled": true,
   "language": "python",
   "sourceType": "notebook"
  },
  "kernelspec": {
   "display_name": "Python 3 (ipykernel)",
   "language": "python",
   "name": "python3"
  },
  "language_info": {
   "codemirror_mode": {
    "name": "ipython",
    "version": 3
   },
   "file_extension": ".py",
   "mimetype": "text/x-python",
   "name": "python",
   "nbconvert_exporter": "python",
   "pygments_lexer": "ipython3",
   "version": "3.10.11"
  }
 },
 "nbformat": 4,
 "nbformat_minor": 4
}